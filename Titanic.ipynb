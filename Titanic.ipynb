{
  "nbformat": 4,
  "nbformat_minor": 0,
  "metadata": {
    "colab": {
      "name": "Titanic.ipynb",
      "provenance": [],
      "mount_file_id": "1XMixR5GNyb9cSSpoG9JAESmUiIdv9U3u",
      "authorship_tag": "ABX9TyNSfb2Hea75U2echnuddEtV",
      "include_colab_link": true
    },
    "kernelspec": {
      "name": "python3",
      "display_name": "Python 3"
    },
    "language_info": {
      "name": "python"
    }
  },
  "cells": [
    {
      "cell_type": "markdown",
      "metadata": {
        "id": "view-in-github",
        "colab_type": "text"
      },
      "source": [
        "<a href=\"https://colab.research.google.com/github/JOAOPEDROMAGAL/APRENDIZAGEM/blob/main/Titanic.ipynb\" target=\"_parent\"><img src=\"https://colab.research.google.com/assets/colab-badge.svg\" alt=\"Open In Colab\"/></a>"
      ]
    },
    {
      "cell_type": "code",
      "metadata": {
        "colab": {
          "base_uri": "https://localhost:8080/",
          "height": 162
        },
        "id": "FOghqSMGgHrw",
        "outputId": "e477a2cc-5091-4ce9-c5af-02bb39a31df9"
      },
      "source": [
        "from google.colab import drive\n",
        "drive.mount = \"/content/drive/MyDrive/Colab Notebooks/Datasets/Titanic\"\n",
        "import pandas as pd\n",
        "import numpy as np\n",
        "df_train = pd.read_csv('/content/drive/MyDrive/Colab Notebooks/Datasets/Titanic/train.csv')\n",
        "df_test = pd.read_csv('/content/drive/MyDrive/Colab Notebooks/Datasets/Titanic/test.csv')\n",
        "df_train.head(2)\n"
      ],
      "execution_count": null,
      "outputs": [
        {
          "output_type": "execute_result",
          "data": {
            "text/html": [
              "<div>\n",
              "<style scoped>\n",
              "    .dataframe tbody tr th:only-of-type {\n",
              "        vertical-align: middle;\n",
              "    }\n",
              "\n",
              "    .dataframe tbody tr th {\n",
              "        vertical-align: top;\n",
              "    }\n",
              "\n",
              "    .dataframe thead th {\n",
              "        text-align: right;\n",
              "    }\n",
              "</style>\n",
              "<table border=\"1\" class=\"dataframe\">\n",
              "  <thead>\n",
              "    <tr style=\"text-align: right;\">\n",
              "      <th></th>\n",
              "      <th>PassengerId</th>\n",
              "      <th>Survived</th>\n",
              "      <th>Pclass</th>\n",
              "      <th>Name</th>\n",
              "      <th>Sex</th>\n",
              "      <th>Age</th>\n",
              "      <th>SibSp</th>\n",
              "      <th>Parch</th>\n",
              "      <th>Ticket</th>\n",
              "      <th>Fare</th>\n",
              "      <th>Cabin</th>\n",
              "      <th>Embarked</th>\n",
              "    </tr>\n",
              "  </thead>\n",
              "  <tbody>\n",
              "    <tr>\n",
              "      <th>0</th>\n",
              "      <td>1</td>\n",
              "      <td>0</td>\n",
              "      <td>3</td>\n",
              "      <td>Braund, Mr. Owen Harris</td>\n",
              "      <td>male</td>\n",
              "      <td>22.0</td>\n",
              "      <td>1</td>\n",
              "      <td>0</td>\n",
              "      <td>A/5 21171</td>\n",
              "      <td>7.2500</td>\n",
              "      <td>NaN</td>\n",
              "      <td>S</td>\n",
              "    </tr>\n",
              "    <tr>\n",
              "      <th>1</th>\n",
              "      <td>2</td>\n",
              "      <td>1</td>\n",
              "      <td>1</td>\n",
              "      <td>Cumings, Mrs. John Bradley (Florence Briggs Th...</td>\n",
              "      <td>female</td>\n",
              "      <td>38.0</td>\n",
              "      <td>1</td>\n",
              "      <td>0</td>\n",
              "      <td>PC 17599</td>\n",
              "      <td>71.2833</td>\n",
              "      <td>C85</td>\n",
              "      <td>C</td>\n",
              "    </tr>\n",
              "  </tbody>\n",
              "</table>\n",
              "</div>"
            ],
            "text/plain": [
              "   PassengerId  Survived  Pclass  ...     Fare Cabin  Embarked\n",
              "0            1         0       3  ...   7.2500   NaN         S\n",
              "1            2         1       1  ...  71.2833   C85         C\n",
              "\n",
              "[2 rows x 12 columns]"
            ]
          },
          "metadata": {},
          "execution_count": 25
        }
      ]
    },
    {
      "cell_type": "code",
      "metadata": {
        "colab": {
          "base_uri": "https://localhost:8080/",
          "height": 111
        },
        "id": "9xMKUfdgh8l-",
        "outputId": "d43632d6-d57b-4c38-8909-0b946bf070a4"
      },
      "source": [
        "df_test.head(2)"
      ],
      "execution_count": null,
      "outputs": [
        {
          "output_type": "execute_result",
          "data": {
            "text/html": [
              "<div>\n",
              "<style scoped>\n",
              "    .dataframe tbody tr th:only-of-type {\n",
              "        vertical-align: middle;\n",
              "    }\n",
              "\n",
              "    .dataframe tbody tr th {\n",
              "        vertical-align: top;\n",
              "    }\n",
              "\n",
              "    .dataframe thead th {\n",
              "        text-align: right;\n",
              "    }\n",
              "</style>\n",
              "<table border=\"1\" class=\"dataframe\">\n",
              "  <thead>\n",
              "    <tr style=\"text-align: right;\">\n",
              "      <th></th>\n",
              "      <th>PassengerId</th>\n",
              "      <th>Pclass</th>\n",
              "      <th>Name</th>\n",
              "      <th>Sex</th>\n",
              "      <th>Age</th>\n",
              "      <th>SibSp</th>\n",
              "      <th>Parch</th>\n",
              "      <th>Ticket</th>\n",
              "      <th>Fare</th>\n",
              "      <th>Cabin</th>\n",
              "      <th>Embarked</th>\n",
              "    </tr>\n",
              "  </thead>\n",
              "  <tbody>\n",
              "    <tr>\n",
              "      <th>0</th>\n",
              "      <td>892</td>\n",
              "      <td>3</td>\n",
              "      <td>Kelly, Mr. James</td>\n",
              "      <td>male</td>\n",
              "      <td>34.5</td>\n",
              "      <td>0</td>\n",
              "      <td>0</td>\n",
              "      <td>330911</td>\n",
              "      <td>7.8292</td>\n",
              "      <td>NaN</td>\n",
              "      <td>Q</td>\n",
              "    </tr>\n",
              "    <tr>\n",
              "      <th>1</th>\n",
              "      <td>893</td>\n",
              "      <td>3</td>\n",
              "      <td>Wilkes, Mrs. James (Ellen Needs)</td>\n",
              "      <td>female</td>\n",
              "      <td>47.0</td>\n",
              "      <td>1</td>\n",
              "      <td>0</td>\n",
              "      <td>363272</td>\n",
              "      <td>7.0000</td>\n",
              "      <td>NaN</td>\n",
              "      <td>S</td>\n",
              "    </tr>\n",
              "  </tbody>\n",
              "</table>\n",
              "</div>"
            ],
            "text/plain": [
              "   PassengerId  Pclass                              Name  ...    Fare  Cabin  Embarked\n",
              "0          892       3                  Kelly, Mr. James  ...  7.8292    NaN         Q\n",
              "1          893       3  Wilkes, Mrs. James (Ellen Needs)  ...  7.0000    NaN         S\n",
              "\n",
              "[2 rows x 11 columns]"
            ]
          },
          "metadata": {},
          "execution_count": 18
        }
      ]
    },
    {
      "cell_type": "code",
      "metadata": {
        "colab": {
          "base_uri": "https://localhost:8080/",
          "height": 80
        },
        "id": "9IOsjyTyh9_r",
        "outputId": "fac507a1-fa5b-4f74-fb1a-c32d88bd95b4"
      },
      "source": [
        "Train_columns = pd.DataFrame({'Columns': df_train.columns, \n",
        "                              'Index_0': range(len(df_train.columns.tolist()))})\n",
        "Test_columns = pd.DataFrame({'Columns': df_test.columns, \n",
        "                             'Index_1': range(len(df_test.columns.tolist()))})\n",
        "\n",
        "merge_0 = pd.merge(Train_columns, Test_columns, on = 'Columns', how = 'left')\n",
        "\n",
        "merge_0[merge_0.isnull().any(axis = 1)]                                   "
      ],
      "execution_count": null,
      "outputs": [
        {
          "output_type": "execute_result",
          "data": {
            "text/html": [
              "<div>\n",
              "<style scoped>\n",
              "    .dataframe tbody tr th:only-of-type {\n",
              "        vertical-align: middle;\n",
              "    }\n",
              "\n",
              "    .dataframe tbody tr th {\n",
              "        vertical-align: top;\n",
              "    }\n",
              "\n",
              "    .dataframe thead th {\n",
              "        text-align: right;\n",
              "    }\n",
              "</style>\n",
              "<table border=\"1\" class=\"dataframe\">\n",
              "  <thead>\n",
              "    <tr style=\"text-align: right;\">\n",
              "      <th></th>\n",
              "      <th>Columns</th>\n",
              "      <th>Index_0</th>\n",
              "      <th>Index_1</th>\n",
              "    </tr>\n",
              "  </thead>\n",
              "  <tbody>\n",
              "    <tr>\n",
              "      <th>1</th>\n",
              "      <td>Survived</td>\n",
              "      <td>1</td>\n",
              "      <td>NaN</td>\n",
              "    </tr>\n",
              "  </tbody>\n",
              "</table>\n",
              "</div>"
            ],
            "text/plain": [
              "    Columns  Index_0  Index_1\n",
              "1  Survived        1      NaN"
            ]
          },
          "metadata": {},
          "execution_count": 19
        }
      ]
    },
    {
      "cell_type": "code",
      "metadata": {
        "colab": {
          "base_uri": "https://localhost:8080/",
          "height": 452
        },
        "id": "TT0IVJXJifd1",
        "outputId": "48e597f0-1904-4c0f-8a0c-1477ba4bd7df"
      },
      "source": [
        "train_info = pd.DataFrame(zip(df_train.columns, df_train.count(), \n",
        "                              df_train.nunique(), df_train.dtypes))\n",
        "\n",
        "train_info.columns = ['Column', 'Count', 'Unique values', 'Dtype']\n",
        "\n",
        "test_info = pd.DataFrame(zip(df_test.columns, df_test.count(), \n",
        "                             df_test.nunique(), df_test.dtypes))\n",
        "\n",
        "test_info.columns = ['Column', 'Count', 'Unique values', 'Dtype']\n",
        "\n",
        "pd.concat([train_info, test_info], axis = 1, join = 'outer', \n",
        "           keys = ['Train', 'Test'], ignore_index = False)"
      ],
      "execution_count": null,
      "outputs": [
        {
          "output_type": "execute_result",
          "data": {
            "text/html": [
              "<div>\n",
              "<style scoped>\n",
              "    .dataframe tbody tr th:only-of-type {\n",
              "        vertical-align: middle;\n",
              "    }\n",
              "\n",
              "    .dataframe tbody tr th {\n",
              "        vertical-align: top;\n",
              "    }\n",
              "\n",
              "    .dataframe thead tr th {\n",
              "        text-align: left;\n",
              "    }\n",
              "</style>\n",
              "<table border=\"1\" class=\"dataframe\">\n",
              "  <thead>\n",
              "    <tr>\n",
              "      <th></th>\n",
              "      <th colspan=\"4\" halign=\"left\">Train</th>\n",
              "      <th colspan=\"4\" halign=\"left\">Test</th>\n",
              "    </tr>\n",
              "    <tr>\n",
              "      <th></th>\n",
              "      <th>Column</th>\n",
              "      <th>Count</th>\n",
              "      <th>Unique values</th>\n",
              "      <th>Dtype</th>\n",
              "      <th>Column</th>\n",
              "      <th>Count</th>\n",
              "      <th>Unique values</th>\n",
              "      <th>Dtype</th>\n",
              "    </tr>\n",
              "  </thead>\n",
              "  <tbody>\n",
              "    <tr>\n",
              "      <th>0</th>\n",
              "      <td>PassengerId</td>\n",
              "      <td>891</td>\n",
              "      <td>891</td>\n",
              "      <td>int64</td>\n",
              "      <td>PassengerId</td>\n",
              "      <td>418.0</td>\n",
              "      <td>418.0</td>\n",
              "      <td>int64</td>\n",
              "    </tr>\n",
              "    <tr>\n",
              "      <th>1</th>\n",
              "      <td>Survived</td>\n",
              "      <td>891</td>\n",
              "      <td>2</td>\n",
              "      <td>int64</td>\n",
              "      <td>Pclass</td>\n",
              "      <td>418.0</td>\n",
              "      <td>3.0</td>\n",
              "      <td>int64</td>\n",
              "    </tr>\n",
              "    <tr>\n",
              "      <th>2</th>\n",
              "      <td>Pclass</td>\n",
              "      <td>891</td>\n",
              "      <td>3</td>\n",
              "      <td>int64</td>\n",
              "      <td>Name</td>\n",
              "      <td>418.0</td>\n",
              "      <td>418.0</td>\n",
              "      <td>object</td>\n",
              "    </tr>\n",
              "    <tr>\n",
              "      <th>3</th>\n",
              "      <td>Name</td>\n",
              "      <td>891</td>\n",
              "      <td>891</td>\n",
              "      <td>object</td>\n",
              "      <td>Sex</td>\n",
              "      <td>418.0</td>\n",
              "      <td>2.0</td>\n",
              "      <td>object</td>\n",
              "    </tr>\n",
              "    <tr>\n",
              "      <th>4</th>\n",
              "      <td>Sex</td>\n",
              "      <td>891</td>\n",
              "      <td>2</td>\n",
              "      <td>object</td>\n",
              "      <td>Age</td>\n",
              "      <td>332.0</td>\n",
              "      <td>79.0</td>\n",
              "      <td>float64</td>\n",
              "    </tr>\n",
              "    <tr>\n",
              "      <th>5</th>\n",
              "      <td>Age</td>\n",
              "      <td>714</td>\n",
              "      <td>88</td>\n",
              "      <td>float64</td>\n",
              "      <td>SibSp</td>\n",
              "      <td>418.0</td>\n",
              "      <td>7.0</td>\n",
              "      <td>int64</td>\n",
              "    </tr>\n",
              "    <tr>\n",
              "      <th>6</th>\n",
              "      <td>SibSp</td>\n",
              "      <td>891</td>\n",
              "      <td>7</td>\n",
              "      <td>int64</td>\n",
              "      <td>Parch</td>\n",
              "      <td>418.0</td>\n",
              "      <td>8.0</td>\n",
              "      <td>int64</td>\n",
              "    </tr>\n",
              "    <tr>\n",
              "      <th>7</th>\n",
              "      <td>Parch</td>\n",
              "      <td>891</td>\n",
              "      <td>7</td>\n",
              "      <td>int64</td>\n",
              "      <td>Ticket</td>\n",
              "      <td>418.0</td>\n",
              "      <td>363.0</td>\n",
              "      <td>object</td>\n",
              "    </tr>\n",
              "    <tr>\n",
              "      <th>8</th>\n",
              "      <td>Ticket</td>\n",
              "      <td>891</td>\n",
              "      <td>681</td>\n",
              "      <td>object</td>\n",
              "      <td>Fare</td>\n",
              "      <td>417.0</td>\n",
              "      <td>169.0</td>\n",
              "      <td>float64</td>\n",
              "    </tr>\n",
              "    <tr>\n",
              "      <th>9</th>\n",
              "      <td>Fare</td>\n",
              "      <td>891</td>\n",
              "      <td>248</td>\n",
              "      <td>float64</td>\n",
              "      <td>Cabin</td>\n",
              "      <td>91.0</td>\n",
              "      <td>76.0</td>\n",
              "      <td>object</td>\n",
              "    </tr>\n",
              "    <tr>\n",
              "      <th>10</th>\n",
              "      <td>Cabin</td>\n",
              "      <td>204</td>\n",
              "      <td>147</td>\n",
              "      <td>object</td>\n",
              "      <td>Embarked</td>\n",
              "      <td>418.0</td>\n",
              "      <td>3.0</td>\n",
              "      <td>object</td>\n",
              "    </tr>\n",
              "    <tr>\n",
              "      <th>11</th>\n",
              "      <td>Embarked</td>\n",
              "      <td>889</td>\n",
              "      <td>3</td>\n",
              "      <td>object</td>\n",
              "      <td>NaN</td>\n",
              "      <td>NaN</td>\n",
              "      <td>NaN</td>\n",
              "      <td>NaN</td>\n",
              "    </tr>\n",
              "  </tbody>\n",
              "</table>\n",
              "</div>"
            ],
            "text/plain": [
              "          Train                      ...   Test                       \n",
              "         Column Count Unique values  ...  Count Unique values    Dtype\n",
              "0   PassengerId   891           891  ...  418.0         418.0    int64\n",
              "1      Survived   891             2  ...  418.0           3.0    int64\n",
              "2        Pclass   891             3  ...  418.0         418.0   object\n",
              "3          Name   891           891  ...  418.0           2.0   object\n",
              "4           Sex   891             2  ...  332.0          79.0  float64\n",
              "5           Age   714            88  ...  418.0           7.0    int64\n",
              "6         SibSp   891             7  ...  418.0           8.0    int64\n",
              "7         Parch   891             7  ...  418.0         363.0   object\n",
              "8        Ticket   891           681  ...  417.0         169.0  float64\n",
              "9          Fare   891           248  ...   91.0          76.0   object\n",
              "10        Cabin   204           147  ...  418.0           3.0   object\n",
              "11     Embarked   889             3  ...    NaN           NaN      NaN\n",
              "\n",
              "[12 rows x 8 columns]"
            ]
          },
          "metadata": {},
          "execution_count": 20
        }
      ]
    },
    {
      "cell_type": "code",
      "metadata": {
        "colab": {
          "base_uri": "https://localhost:8080/"
        },
        "id": "OhKGBws8i8LM",
        "outputId": "0d6f0ee6-9b89-4011-b33f-0827756bca95"
      },
      "source": [
        "for column in {'Sex', 'SibSp', 'Parch', 'Embarked'}:\n",
        "    df_train[column] = df_train[column].astype('category')\n",
        "    \n",
        "for column in {'Sex', 'SibSp', 'Parch', 'Embarked'}:\n",
        "    df_test[column] = df_test[column].astype('category')\n",
        "\n",
        "round((df_train.isnull().sum()/len(df_train)*100).sort_values(\n",
        "       ascending = False), 1)\n"
      ],
      "execution_count": null,
      "outputs": [
        {
          "output_type": "execute_result",
          "data": {
            "text/plain": [
              "Cabin          77.1\n",
              "Age            19.9\n",
              "Embarked        0.2\n",
              "Fare            0.0\n",
              "Ticket          0.0\n",
              "Parch           0.0\n",
              "SibSp           0.0\n",
              "Sex             0.0\n",
              "Name            0.0\n",
              "Pclass          0.0\n",
              "Survived        0.0\n",
              "PassengerId     0.0\n",
              "dtype: float64"
            ]
          },
          "metadata": {},
          "execution_count": 31
        }
      ]
    },
    {
      "cell_type": "code",
      "metadata": {
        "colab": {
          "base_uri": "https://localhost:8080/"
        },
        "id": "5GkOwa1ojrx2",
        "outputId": "a6a3da77-b106-483e-8021-234559637dc2"
      },
      "source": [
        "\n",
        "round((df_test.isnull().sum()/len(df_test)*100).sort_values(\n",
        "       ascending = False), 1)"
      ],
      "execution_count": null,
      "outputs": [
        {
          "output_type": "execute_result",
          "data": {
            "text/plain": [
              "Cabin          78.2\n",
              "Age            20.6\n",
              "Fare            0.2\n",
              "Embarked        0.0\n",
              "Ticket          0.0\n",
              "Parch           0.0\n",
              "SibSp           0.0\n",
              "Sex             0.0\n",
              "Name            0.0\n",
              "Pclass          0.0\n",
              "PassengerId     0.0\n",
              "dtype: float64"
            ]
          },
          "metadata": {},
          "execution_count": 32
        }
      ]
    },
    {
      "cell_type": "code",
      "metadata": {
        "colab": {
          "base_uri": "https://localhost:8080/",
          "height": 634
        },
        "id": "07wpCPAAkDy7",
        "outputId": "13d167a4-a041-4ad0-ab51-7f4674c4ee18"
      },
      "source": [
        "df_train.drop('Cabin', axis = 1, inplace = True)\n",
        "df_test.drop('Cabin', axis = 1, inplace = True)\n",
        "\n",
        "import seaborn as sns\n",
        "\n",
        "sns.set_style(\"darkgrid\")\n",
        "\n",
        "import matplotlib as mpl\n",
        "import matplotlib.pyplot as plt\n",
        "\n",
        "plt.style.use('seaborn')\n",
        "\n",
        "train_no_NA = df_train.dropna()\n",
        "\n",
        "train_cat_visual_0 = df_train.dropna().copy().select_dtypes(\n",
        "                     include = ['object', 'category']).columns.tolist()\n",
        "\n",
        "train_cat_visual_0.remove('Name')\n",
        "train_cat_visual_0.remove('Ticket')\n",
        "\n",
        "sns.set(rc = {'figure.dpi': 110}, font_scale = 0.8)\n",
        "\n",
        "fig, ax = plt.subplots(3, 2, figsize = (8, 8))\n",
        "\n",
        "for indx, (column, axes) in list(enumerate(list(zip(train_cat_visual_0, \n",
        "                                                    ax.flatten())))):\n",
        "    \n",
        "    sns.barplot(ax = axes, x = train_no_NA[column], y = train_no_NA['Age'], \n",
        "                palette = 'crest', alpha = 0.8)\n",
        "    \n",
        "else:\n",
        "    [axes.set_visible(False) for axes in ax.flatten()[indx + 1:]]\n",
        "    \n",
        "plt.tight_layout()\n",
        "plt.show()"
      ],
      "execution_count": null,
      "outputs": [
        {
          "output_type": "display_data",
          "data": {
            "image/png": "[encoded data removed]",
            "text/plain": [
              "<Figure size 880x880 with 6 Axes>"
            ]
          },
          "metadata": {}
        }
      ]
    }
  ]
}